{
 "cells": [
  {
   "cell_type": "markdown",
   "metadata": {},
   "source": [
    "### Intro\n",
    "Data set below contains data about results of marketing companies in terms of hypermarket chains. Marketing companies lasted about one month."
   ]
  },
  {
   "cell_type": "code",
   "execution_count": 1,
   "metadata": {},
   "outputs": [
    {
     "name": "stderr",
     "output_type": "stream",
     "text": [
      "C:\\Users\\Nikita\\Anaconda3\\lib\\site-packages\\statsmodels\\tools\\_testing.py:19: FutureWarning: pandas.util.testing is deprecated. Use the functions in the public API at pandas.testing instead.\n",
      "  import pandas.util.testing as tm\n"
     ]
    },
    {
     "data": {
      "text/html": [
       "<div>\n",
       "<style scoped>\n",
       "    .dataframe tbody tr th:only-of-type {\n",
       "        vertical-align: middle;\n",
       "    }\n",
       "\n",
       "    .dataframe tbody tr th {\n",
       "        vertical-align: top;\n",
       "    }\n",
       "\n",
       "    .dataframe thead th {\n",
       "        text-align: right;\n",
       "    }\n",
       "</style>\n",
       "<table border=\"1\" class=\"dataframe\">\n",
       "  <thead>\n",
       "    <tr style=\"text-align: right;\">\n",
       "      <th></th>\n",
       "      <th>MarketID</th>\n",
       "      <th>MarketSize</th>\n",
       "      <th>LocationID</th>\n",
       "      <th>AgeOfStore</th>\n",
       "      <th>Promotion</th>\n",
       "      <th>week</th>\n",
       "      <th>SalesInThousands</th>\n",
       "    </tr>\n",
       "  </thead>\n",
       "  <tbody>\n",
       "    <tr>\n",
       "      <th>0</th>\n",
       "      <td>1</td>\n",
       "      <td>Medium</td>\n",
       "      <td>1</td>\n",
       "      <td>4</td>\n",
       "      <td>3</td>\n",
       "      <td>1</td>\n",
       "      <td>33.73</td>\n",
       "    </tr>\n",
       "    <tr>\n",
       "      <th>1</th>\n",
       "      <td>1</td>\n",
       "      <td>Medium</td>\n",
       "      <td>1</td>\n",
       "      <td>4</td>\n",
       "      <td>3</td>\n",
       "      <td>2</td>\n",
       "      <td>35.67</td>\n",
       "    </tr>\n",
       "    <tr>\n",
       "      <th>2</th>\n",
       "      <td>1</td>\n",
       "      <td>Medium</td>\n",
       "      <td>1</td>\n",
       "      <td>4</td>\n",
       "      <td>3</td>\n",
       "      <td>3</td>\n",
       "      <td>29.03</td>\n",
       "    </tr>\n",
       "    <tr>\n",
       "      <th>3</th>\n",
       "      <td>1</td>\n",
       "      <td>Medium</td>\n",
       "      <td>1</td>\n",
       "      <td>4</td>\n",
       "      <td>3</td>\n",
       "      <td>4</td>\n",
       "      <td>39.25</td>\n",
       "    </tr>\n",
       "    <tr>\n",
       "      <th>4</th>\n",
       "      <td>1</td>\n",
       "      <td>Medium</td>\n",
       "      <td>2</td>\n",
       "      <td>5</td>\n",
       "      <td>2</td>\n",
       "      <td>1</td>\n",
       "      <td>27.81</td>\n",
       "    </tr>\n",
       "    <tr>\n",
       "      <th>5</th>\n",
       "      <td>1</td>\n",
       "      <td>Medium</td>\n",
       "      <td>2</td>\n",
       "      <td>5</td>\n",
       "      <td>2</td>\n",
       "      <td>2</td>\n",
       "      <td>34.67</td>\n",
       "    </tr>\n",
       "    <tr>\n",
       "      <th>6</th>\n",
       "      <td>1</td>\n",
       "      <td>Medium</td>\n",
       "      <td>2</td>\n",
       "      <td>5</td>\n",
       "      <td>2</td>\n",
       "      <td>3</td>\n",
       "      <td>27.98</td>\n",
       "    </tr>\n",
       "    <tr>\n",
       "      <th>7</th>\n",
       "      <td>1</td>\n",
       "      <td>Medium</td>\n",
       "      <td>2</td>\n",
       "      <td>5</td>\n",
       "      <td>2</td>\n",
       "      <td>4</td>\n",
       "      <td>27.72</td>\n",
       "    </tr>\n",
       "    <tr>\n",
       "      <th>8</th>\n",
       "      <td>1</td>\n",
       "      <td>Medium</td>\n",
       "      <td>3</td>\n",
       "      <td>12</td>\n",
       "      <td>1</td>\n",
       "      <td>1</td>\n",
       "      <td>44.54</td>\n",
       "    </tr>\n",
       "    <tr>\n",
       "      <th>9</th>\n",
       "      <td>1</td>\n",
       "      <td>Medium</td>\n",
       "      <td>3</td>\n",
       "      <td>12</td>\n",
       "      <td>1</td>\n",
       "      <td>2</td>\n",
       "      <td>37.94</td>\n",
       "    </tr>\n",
       "  </tbody>\n",
       "</table>\n",
       "</div>"
      ],
      "text/plain": [
       "   MarketID MarketSize  LocationID  AgeOfStore  Promotion  week  \\\n",
       "0         1     Medium           1           4          3     1   \n",
       "1         1     Medium           1           4          3     2   \n",
       "2         1     Medium           1           4          3     3   \n",
       "3         1     Medium           1           4          3     4   \n",
       "4         1     Medium           2           5          2     1   \n",
       "5         1     Medium           2           5          2     2   \n",
       "6         1     Medium           2           5          2     3   \n",
       "7         1     Medium           2           5          2     4   \n",
       "8         1     Medium           3          12          1     1   \n",
       "9         1     Medium           3          12          1     2   \n",
       "\n",
       "   SalesInThousands  \n",
       "0             33.73  \n",
       "1             35.67  \n",
       "2             29.03  \n",
       "3             39.25  \n",
       "4             27.81  \n",
       "5             34.67  \n",
       "6             27.98  \n",
       "7             27.72  \n",
       "8             44.54  \n",
       "9             37.94  "
      ]
     },
     "execution_count": 1,
     "metadata": {},
     "output_type": "execute_result"
    }
   ],
   "source": [
    "import pandas as pd\n",
    "import matplotlib.pyplot as plt\n",
    "import statsmodels.stats.power as smp\n",
    "from scipy import stats\n",
    "import seaborn as sns\n",
    "\n",
    "\n",
    "df = pd.read_csv('Marketing_Campaign.csv')\n",
    "df.head(10)"
   ]
  },
  {
   "cell_type": "markdown",
   "metadata": {},
   "source": [
    "### Descriptive analysis\n",
    "\n",
    "We can start from descriptive analysis to see what are distributions of variables, how marketing companies effect on sales in terms of other measures."
   ]
  },
  {
   "cell_type": "markdown",
   "metadata": {},
   "source": [
    "#### 1. Sales amount and count of markets in terms of market id   \n",
    "\n",
    "As we can see, that  count of markets between market_id is comparable, also as amount of sales (except comparison of sales amount between 'large' group)"
   ]
  },
  {
   "cell_type": "code",
   "execution_count": 2,
   "metadata": {},
   "outputs": [
    {
     "data": {
      "text/html": [
       "<div>\n",
       "<style scoped>\n",
       "    .dataframe tbody tr th:only-of-type {\n",
       "        vertical-align: middle;\n",
       "    }\n",
       "\n",
       "    .dataframe tbody tr th {\n",
       "        vertical-align: top;\n",
       "    }\n",
       "\n",
       "    .dataframe thead th {\n",
       "        text-align: right;\n",
       "    }\n",
       "</style>\n",
       "<table border=\"1\" class=\"dataframe\">\n",
       "  <thead>\n",
       "    <tr style=\"text-align: right;\">\n",
       "      <th></th>\n",
       "      <th></th>\n",
       "      <th>Markets_count</th>\n",
       "      <th>SalesInThousands</th>\n",
       "    </tr>\n",
       "    <tr>\n",
       "      <th>MarketID</th>\n",
       "      <th>MarketSize</th>\n",
       "      <th></th>\n",
       "      <th></th>\n",
       "    </tr>\n",
       "  </thead>\n",
       "  <tbody>\n",
       "    <tr>\n",
       "      <th>4</th>\n",
       "      <th>Small</th>\n",
       "      <td>9</td>\n",
       "      <td>1962.29</td>\n",
       "    </tr>\n",
       "    <tr>\n",
       "      <th>2</th>\n",
       "      <th>Small</th>\n",
       "      <td>6</td>\n",
       "      <td>1482.27</td>\n",
       "    </tr>\n",
       "    <tr>\n",
       "      <th>5</th>\n",
       "      <th>Medium</th>\n",
       "      <td>15</td>\n",
       "      <td>2930.28</td>\n",
       "    </tr>\n",
       "    <tr>\n",
       "      <th>7</th>\n",
       "      <th>Medium</th>\n",
       "      <td>15</td>\n",
       "      <td>2668.52</td>\n",
       "    </tr>\n",
       "    <tr>\n",
       "      <th>8</th>\n",
       "      <th>Medium</th>\n",
       "      <td>12</td>\n",
       "      <td>2349.74</td>\n",
       "    </tr>\n",
       "    <tr>\n",
       "      <th>6</th>\n",
       "      <th>Medium</th>\n",
       "      <td>15</td>\n",
       "      <td>2183.85</td>\n",
       "    </tr>\n",
       "    <tr>\n",
       "      <th>9</th>\n",
       "      <th>Medium</th>\n",
       "      <td>10</td>\n",
       "      <td>2117.63</td>\n",
       "    </tr>\n",
       "    <tr>\n",
       "      <th>1</th>\n",
       "      <th>Medium</th>\n",
       "      <td>13</td>\n",
       "      <td>1825.29</td>\n",
       "    </tr>\n",
       "    <tr>\n",
       "      <th>3</th>\n",
       "      <th>Large</th>\n",
       "      <td>22</td>\n",
       "      <td>7477.51</td>\n",
       "    </tr>\n",
       "    <tr>\n",
       "      <th>10</th>\n",
       "      <th>Large</th>\n",
       "      <td>20</td>\n",
       "      <td>4302.10</td>\n",
       "    </tr>\n",
       "  </tbody>\n",
       "</table>\n",
       "</div>"
      ],
      "text/plain": [
       "                     Markets_count  SalesInThousands\n",
       "MarketID MarketSize                                 \n",
       "4        Small                   9           1962.29\n",
       "2        Small                   6           1482.27\n",
       "5        Medium                 15           2930.28\n",
       "7        Medium                 15           2668.52\n",
       "8        Medium                 12           2349.74\n",
       "6        Medium                 15           2183.85\n",
       "9        Medium                 10           2117.63\n",
       "1        Medium                 13           1825.29\n",
       "3        Large                  22           7477.51\n",
       "10       Large                  20           4302.10"
      ]
     },
     "execution_count": 2,
     "metadata": {},
     "output_type": "execute_result"
    }
   ],
   "source": [
    "df.groupby(['MarketID', 'MarketSize']).agg({'LocationID': 'nunique', 'SalesInThousands': 'sum'}).rename(\n",
    "    columns={'LocationID':'Markets_count'}).sort_values(by=['MarketSize', 'SalesInThousands'],ascending=False)"
   ]
  },
  {
   "cell_type": "markdown",
   "metadata": {},
   "source": [
    "#### 2. Sales amount in terms of market size and market id\n",
    "Only markets which are included into medium market size group have the same structure of sales by promotions (except 5 market id)"
   ]
  },
  {
   "cell_type": "code",
   "execution_count": 3,
   "metadata": {},
   "outputs": [
    {
     "data": {
      "image/png": "[encoded data removed]",
      "text/plain": [
       "<Figure size 720x360 with 1 Axes>"
      ]
     },
     "metadata": {
      "needs_background": "light"
     },
     "output_type": "display_data"
    },
    {
     "data": {
      "image/png": "[encoded data removed]",
      "text/plain": [
       "<Figure size 720x360 with 1 Axes>"
      ]
     },
     "metadata": {
      "needs_background": "light"
     },
     "output_type": "display_data"
    },
    {
     "data": {
      "image/png": "[encoded data removed]",
      "text/plain": [
       "<Figure size 720x360 with 1 Axes>"
      ]
     },
     "metadata": {
      "needs_background": "light"
     },
     "output_type": "display_data"
    }
   ],
   "source": [
    "ax = df.groupby(['MarketID', 'MarketSize', 'Promotion']) \\\n",
    "    .sum()['SalesInThousands'] \\\n",
    "    .unstack('Promotion')\n",
    "\n",
    "market_size_list = ['Small', 'Medium', 'Large']\n",
    "\n",
    "for ms in market_size_list:\n",
    "    ax.loc[(slice(None), ms), :].plot(kind='bar', stacked=True, figsize=(10, 5))\n",
    "    plt.xlabel('Market id')\n",
    "    plt.ylabel('Sales in thousand')\n",
    "    plt.title(f'{ms} market size')"
   ]
  },
  {
   "cell_type": "markdown",
   "metadata": {},
   "source": [
    "#### 3. Sales amount in terms of market size and number of week\n",
    "There is no different in structure of sales by weeks and market size."
   ]
  },
  {
   "cell_type": "code",
   "execution_count": 4,
   "metadata": {},
   "outputs": [
    {
     "data": {
      "image/png": "[encoded data removed]",
      "text/plain": [
       "<Figure size 720x360 with 1 Axes>"
      ]
     },
     "metadata": {
      "needs_background": "light"
     },
     "output_type": "display_data"
    },
    {
     "data": {
      "image/png": "[encoded data removed]",
      "text/plain": [
       "<Figure size 720x360 with 1 Axes>"
      ]
     },
     "metadata": {
      "needs_background": "light"
     },
     "output_type": "display_data"
    },
    {
     "data": {
      "image/png": "[encoded data removed]",
      "text/plain": [
       "<Figure size 720x360 with 1 Axes>"
      ]
     },
     "metadata": {
      "needs_background": "light"
     },
     "output_type": "display_data"
    }
   ],
   "source": [
    "ax = df.groupby(['week', 'MarketSize', 'Promotion']) \\\n",
    "    .sum()['SalesInThousands'] \\\n",
    "    .unstack('Promotion')\n",
    "\n",
    "market_size_list = ['Small', 'Medium', 'Large']\n",
    "\n",
    "for ms in market_size_list:\n",
    "    ax.loc[(slice(None), ms), :].plot(kind='bar', stacked=True, figsize=(10, 5))\n",
    "    plt.xlabel('Week')\n",
    "    plt.ylabel('Sales in thousand')\n",
    "    plt.title(f'{ms} market size')"
   ]
  },
  {
   "cell_type": "markdown",
   "metadata": {},
   "source": [
    "### A/B Testing\n",
    "\n",
    "\n",
    "The goal of current a/b test is define, which promotion is good for certain market size, using comparison between average sales by promotions."
   ]
  },
  {
   "cell_type": "markdown",
   "metadata": {},
   "source": [
    "#### 1.  'Large' market size\n",
    "We will start from 'large' market size. Given the fact, that sample size for any promo is greater than fifty, we don't need to check distribution of target variable (sales by week) for normality (due to CLT). We will use one tailed t-test to check significance of differences in means by promotions.\n",
    "##### Notes\n",
    "We can receive only 73% of power for single test with alpha 15% and 58% of power for multiple test (count = 2), using Bonferroni correction (calculations are shown below). So, we will not use multiple test here.  \n",
    "***Regarding the a/b test:***  \n",
    "we will compare means of promotion groups as follows:   \n",
    "H<sub>0</sub>: m<sub>0</sub> = m<sub>1</sub>   \n",
    "H<sub>1</sub>  : m<sub>0</sub> < m<sub>1</sub>  "
   ]
  },
  {
   "cell_type": "code",
   "execution_count": 5,
   "metadata": {},
   "outputs": [
    {
     "name": "stdout",
     "output_type": "stream",
     "text": [
      "Sample size for the first promo is 56\n",
      "Sample size for the second promo is 64\n",
      "Sample size for the third promo is 48\n",
      "\n",
      "                           mean\n",
      "MarketSize Promotion           \n",
      "Large      1          75.235893\n",
      "           2          60.322031\n",
      "           3          77.203958\n",
      "\n",
      "Power of single test is 0.73\n",
      "Power of multiple test is 0.58\n",
      "\n",
      "T statistic of comparison between promo 1 and promo 2 is -5.223, also p-value is 0.00000\n",
      "\n",
      "T statistic of comparison between promo 3 and promo 2 is -5.901, also p-value is 0.00000\n",
      "\n",
      "T statistic of comparison between promo 3 and promo 1 is -0.671, also p-value is 0.25195\n"
     ]
    }
   ],
   "source": [
    "prom_1_n = df.groupby(['MarketSize', 'Promotion']).count()[['MarketID']].query('MarketSize == \"Large\" & Promotion == 1') \\\n",
    "            .MarketID.values[0]\n",
    "prom_2_n = df.groupby(['MarketSize', 'Promotion']).count()[['MarketID']].query('MarketSize == \"Large\" & Promotion == 2') \\\n",
    "            .MarketID.values[0]\n",
    "prom_3_n = df.groupby(['MarketSize', 'Promotion']).count()[['MarketID']].query('MarketSize == \"Large\" & Promotion == 3') \\\n",
    "            .MarketID.values[0]\n",
    "\n",
    "print(f'Sample size for the first promo is {prom_1_n}')\n",
    "print(f'Sample size for the second promo is {prom_2_n}')\n",
    "print(f'Sample size for the third promo is {prom_3_n}')\n",
    "print()\n",
    "print(df.groupby(['MarketSize', 'Promotion']).mean()[['SalesInThousands']].query('MarketSize == \"Large\"')\n",
    "      .rename(columns={'SalesInThousands': 'mean'}))\n",
    "print()\n",
    "\n",
    "\n",
    "# Calculating of effect size\n",
    "temp_n = 50\n",
    "temp_std = df.groupby(['MarketSize', 'Promotion']).std()[['SalesInThousands']].query('MarketSize == \"Large\"').mean().values[0]\n",
    "uplift = 5\n",
    "# Cohen's d method\n",
    "effect_size = uplift / temp_std\n",
    "\n",
    "# Calculating of test power\n",
    "ttest_power = smp.TTestIndPower()\n",
    "power_single_test = ttest_power.solve_power(effect_size=effect_size, nobs1=temp_n, alpha=0.15, power=None, alternative='larger')\n",
    "power_multiple_test = ttest_power.solve_power(effect_size=effect_size, nobs1=temp_n, alpha=0.15 / 2, power=None, \n",
    "                                              alternative='larger')\n",
    "\n",
    "print(f'Power of single test is {power_single_test:.2f}')\n",
    "print(f'Power of multiple test is {power_multiple_test:.2f}')\n",
    "print()\n",
    "\n",
    "\n",
    "##################################################### implementation of ttest ##################################################\n",
    "# sampling\n",
    "promo1_data = df[(df['MarketSize'] == 'Large') & (df['Promotion'] == 1)]['SalesInThousands']\n",
    "promo2_data = df[(df['MarketSize'] == 'Large') & (df['Promotion'] == 2)]['SalesInThousands']\n",
    "promo3_data = df[(df['MarketSize'] == 'Large') & (df['Promotion'] == 3)]['SalesInThousands']\n",
    "\n",
    "\n",
    "#  comparison between promo 1 and promo 2\n",
    "t_stat, p_value = stats.ttest_ind(promo2_data, promo1_data, equal_var=False, alternative='less')\n",
    "print(f'T statistic of comparison between promo 1 and promo 2 is {t_stat:.3f}, also p-value is {p_value:.5f}')\n",
    "print()\n",
    "\n",
    "\n",
    "#  comparison between promo 3 and promo 2\n",
    "t_stat, p_value = stats.ttest_ind(promo2_data, promo3_data, equal_var=False, alternative='less')\n",
    "print(f'T statistic of comparison between promo 3 and promo 2 is {t_stat:.3f}, also p-value is {p_value:.5f}')\n",
    "print()\n",
    "\n",
    "\n",
    "#  comparison between promo 3 and promo 1\n",
    "t_stat, p_value = stats.ttest_ind(promo1_data, promo3_data, equal_var=False, alternative='less')\n",
    "print(f'T statistic of comparison between promo 3 and promo 1 is {t_stat:.3f}, also p-value is {p_value:.5f}')"
   ]
  },
  {
   "cell_type": "markdown",
   "metadata": {},
   "source": [
    "##### Results\n",
    "There are significant differences between mean of sales by promotions:\n",
    "promo 1 is statistically significant than promo 2, also promo 3 is is statistically significant than promo 2. These result have large values of t-statistic and p-value goes to zero. Comparison of promo 3 and promo 1 doesn't show a significant result (p-value greater than alpha)"
   ]
  },
  {
   "cell_type": "markdown",
   "metadata": {},
   "source": [
    "#### 2.  'Medium' market size\n",
    "Given the fact, that sample size for any promo is greater than hundred, we don't need to check distribution of target variable (sales by week) for normality (due to CLT). We will use one tailed t-test to check significance of differences in means by promotions. We will use one tailed t-test to check significance of differences in means by promotions.\n",
    "##### Notes\n",
    "We can receive enough power for single test and multiple test (count = 2) with alpha 5%, using Bonferroni correction (calculations are shown below).    \n",
    "***Regarding the a/b test:***   \n",
    "we will compare means of promotion groups as follows:   \n",
    "H0: m0 = m1   \n",
    "H1 : m0 < m1"
   ]
  },
  {
   "cell_type": "code",
   "execution_count": 6,
   "metadata": {},
   "outputs": [
    {
     "name": "stdout",
     "output_type": "stream",
     "text": [
      "Sample size for the first promo is 96\n",
      "Sample size for the second promo is 108\n",
      "Sample size for the third promo is 116\n",
      "\n",
      "                           mean\n",
      "MarketSize Promotion           \n",
      "Medium     1          47.672604\n",
      "           2          39.114352\n",
      "           3          45.468879\n",
      "\n",
      "Power of single test is 0.96\n",
      "Power of multiple test is 0.92\n",
      "\n",
      "T statistic of comparison between promo 1 and promo 2 is -7.243, also p-value is 0.00000\n",
      "\n",
      "T statistic of comparison between promo 3 and promo 2 is -5.611, also p-value is 0.00000\n",
      "\n",
      "T statistic of comparison between promo 1 and promo 3 is -1.977, also p-value is 0.02469\n"
     ]
    }
   ],
   "source": [
    "prom_1_n = df.groupby(['MarketSize', 'Promotion']).count()[['MarketID']].query('MarketSize == \"Medium\" & Promotion == 1') \\\n",
    "            .MarketID.values[0]\n",
    "prom_2_n = df.groupby(['MarketSize', 'Promotion']).count()[['MarketID']].query('MarketSize == \"Medium\" & Promotion == 2') \\\n",
    "            .MarketID.values[0]\n",
    "prom_3_n = df.groupby(['MarketSize', 'Promotion']).count()[['MarketID']].query('MarketSize == \"Medium\" & Promotion == 3') \\\n",
    "            .MarketID.values[0]\n",
    "\n",
    "print(f'Sample size for the first promo is {prom_1_n}')\n",
    "print(f'Sample size for the second promo is {prom_2_n}')\n",
    "print(f'Sample size for the third promo is {prom_3_n}')\n",
    "print()\n",
    "print(df.groupby(['MarketSize', 'Promotion']).mean()[['SalesInThousands']].query('MarketSize == \"Medium\"')\n",
    "      .rename(columns={'SalesInThousands': 'mean'}))\n",
    "print()\n",
    "\n",
    "\n",
    "# Calculating of effect size\n",
    "temp_n = 100\n",
    "temp_std = df.groupby(['MarketSize', 'Promotion']).std()[['SalesInThousands']].query('MarketSize == \"Medium\"').mean().values[0]\n",
    "uplift = 4\n",
    "# Cohen's d method\n",
    "effect_size = uplift / temp_std\n",
    "\n",
    "# Calculating of test power\n",
    "ttest_power = smp.TTestIndPower()\n",
    "power_single_test = ttest_power.solve_power(effect_size=effect_size, nobs1=temp_n, alpha=0.05, power=None, alternative='larger')\n",
    "power_multiple_test = ttest_power.solve_power(effect_size=effect_size, nobs1=temp_n, alpha=0.05 / 2, power=None, \n",
    "                                              alternative='larger')\n",
    "\n",
    "print(f'Power of single test is {power_single_test:.2f}')\n",
    "print(f'Power of multiple test is {power_multiple_test:.2f}')\n",
    "print()\n",
    "\n",
    "\n",
    "##################################################### implementation of ttest ##################################################\n",
    "# sampling\n",
    "promo1_data = df[(df['MarketSize'] == 'Medium') & (df['Promotion'] == 1)]['SalesInThousands']\n",
    "promo2_data = df[(df['MarketSize'] == 'Medium') & (df['Promotion'] == 2)]['SalesInThousands']\n",
    "promo3_data = df[(df['MarketSize'] == 'Medium') & (df['Promotion'] == 3)]['SalesInThousands']\n",
    "\n",
    "\n",
    "#  comparison between promo 1 and promo 2\n",
    "t_stat, p_value = stats.ttest_ind(promo2_data, promo1_data, equal_var=False, alternative='less')\n",
    "print(f'T statistic of comparison between promo 1 and promo 2 is {t_stat:.3f}, also p-value is {p_value:.5f}')\n",
    "print()\n",
    "\n",
    "\n",
    "#  comparison between promo 3 and promo 2\n",
    "t_stat, p_value = stats.ttest_ind(promo2_data, promo3_data, equal_var=False, alternative='less')\n",
    "print(f'T statistic of comparison between promo 3 and promo 2 is {t_stat:.3f}, also p-value is {p_value:.5f}')\n",
    "print()\n",
    "\n",
    "\n",
    "#  comparison between promo 1 and promo 3\n",
    "t_stat, p_value = stats.ttest_ind(promo3_data, promo1_data, equal_var=False, alternative='less')\n",
    "print(f'T statistic of comparison between promo 1 and promo 3 is {t_stat:.3f}, also p-value is {p_value:.5f}')"
   ]
  },
  {
   "cell_type": "markdown",
   "metadata": {},
   "source": [
    "##### Results\n",
    "There are significant differences between mean of sales by promotions:\n",
    "promo 1 is statistically significant than promo 2, also promo 3 is is statistically significant than promo 2. These result have large values of t-statistic and p-value goes to zero. Also, comparison of promo 1 and promo 3 shows a significant result (p-value less than alpha, which is 0.025 (after Bonferroni correction) )"
   ]
  },
  {
   "cell_type": "markdown",
   "metadata": {},
   "source": [
    "#### 3.  'Small' market size\n",
    "\n",
    "Sample size for any promo group is about 20, so we should check distribution of target value for normality, we will use  shapiro test. If target value was drawn from a normal distribution, we will use one tailed t-test to check significance of differences in means by promotions, also mannwhitneyu test.\n",
    "##### Notes\n",
    "We can receive enough power for single test and multiple test (count = 2) with alpha 10%, using Bonferroni correction (calculations are shown below).    \n",
    "***Regarding the a/b test:***   \n",
    "we will compare means of promotion groups as follows:   \n",
    "H0: m0 = m1   \n",
    "H1 : m0 < m1"
   ]
  },
  {
   "cell_type": "code",
   "execution_count": 7,
   "metadata": {},
   "outputs": [
    {
     "name": "stdout",
     "output_type": "stream",
     "text": [
      "Sample size for the first promo is 20\n",
      "Sample size for the second promo is 16\n",
      "Sample size for the third promo is 24\n",
      "\n",
      "                           mean\n",
      "MarketSize Promotion           \n",
      "Small      1          60.162500\n",
      "           2          50.810625\n",
      "           3          59.514167\n",
      "\n"
     ]
    },
    {
     "data": {
      "image/png": "[encoded data removed]",
      "text/plain": [
       "<Figure size 432x288 with 1 Axes>"
      ]
     },
     "metadata": {
      "needs_background": "light"
     },
     "output_type": "display_data"
    },
    {
     "data": {
      "image/png": "[encoded data removed]",
      "text/plain": [
       "<Figure size 432x288 with 1 Axes>"
      ]
     },
     "metadata": {
      "needs_background": "light"
     },
     "output_type": "display_data"
    },
    {
     "data": {
      "image/png": "[encoded data removed]",
      "text/plain": [
       "<Figure size 432x288 with 1 Axes>"
      ]
     },
     "metadata": {
      "needs_background": "light"
     },
     "output_type": "display_data"
    },
    {
     "name": "stdout",
     "output_type": "stream",
     "text": [
      "p-value of Shapiro test for promo 1 is 0.319\n",
      "p-value of Shapiro test for promo 2 is 0.684\n",
      "p-value of Shapiro test for promo 3 is 0.924\n",
      "\n",
      "Power of single test is 0.85\n",
      "Power of multiple test is 0.74\n",
      "\n",
      "T statistic of comparison between promo 1 and promo 2 is -5.022, also p-value is 0.00001\n",
      "\n",
      "T statistic of comparison between promo 3 and promo 2 is -4.802, also p-value is 0.00002\n",
      "\n",
      "T statistic of comparison between promo 1 and promo 3 is -0.414, also p-value is 0.34034\n",
      "\n",
      "U statistic of comparison between promo 1 and promo 2 is 288.000, also p-value is 0.00002\n",
      "\n",
      "U statistic of comparison between promo 3 and promo 2 is 338.000, also p-value is 0.00003\n",
      "\n",
      "U statistic of comparison between promo 1 and promo 3 is 251.500, also p-value is 0.39771\n",
      "\n"
     ]
    }
   ],
   "source": [
    "prom_1_n = df.groupby(['MarketSize', 'Promotion']).count()[['MarketID']].query('MarketSize == \"Small\" & Promotion == 1') \\\n",
    "            .MarketID.values[0]\n",
    "prom_2_n = df.groupby(['MarketSize', 'Promotion']).count()[['MarketID']].query('MarketSize == \"Small\" & Promotion == 2') \\\n",
    "            .MarketID.values[0]\n",
    "prom_3_n = df.groupby(['MarketSize', 'Promotion']).count()[['MarketID']].query('MarketSize == \"Small\" & Promotion == 3') \\\n",
    "            .MarketID.values[0]\n",
    "\n",
    "print(f'Sample size for the first promo is {prom_1_n}')\n",
    "print(f'Sample size for the second promo is {prom_2_n}')\n",
    "print(f'Sample size for the third promo is {prom_3_n}')\n",
    "print()\n",
    "\n",
    "print(df.groupby(['MarketSize', 'Promotion']).mean()[['SalesInThousands']].query('MarketSize == \"Small\"')\n",
    "      .rename(columns={'SalesInThousands': 'mean'}))\n",
    "print()\n",
    "\n",
    "\n",
    "# sampling\n",
    "promo1_data = df[(df['MarketSize'] == 'Small') & (df['Promotion'] == 1)]['SalesInThousands']\n",
    "promo2_data = df[(df['MarketSize'] == 'Small') & (df['Promotion'] == 2)]['SalesInThousands']\n",
    "promo3_data = df[(df['MarketSize'] == 'Small') & (df['Promotion'] == 3)]['SalesInThousands']\n",
    "\n",
    "\n",
    "# checking distribution of target variable for normality\n",
    "promo1_data.plot.hist(bins=prom_1_n)\n",
    "plt.title('Distributions of sales of promo 1')\n",
    "plt.show()\n",
    "\n",
    "promo2_data.plot.hist(bins=prom_2_n)\n",
    "plt.title('Distributions of sales of promo 2')\n",
    "plt.show()\n",
    "\n",
    "promo3_data.plot.hist(bins=prom_3_n)\n",
    "plt.title('Distributions of sales of promo 3')\n",
    "plt.show()\n",
    "\n",
    "stat, p_value = stats.shapiro(promo1_data)\n",
    "print(f'p-value of Shapiro test for promo 1 is {p_value:.3f}')\n",
    "\n",
    "stat, p_value = stats.shapiro(promo2_data)\n",
    "print(f'p-value of Shapiro test for promo 2 is {p_value:.3f}')\n",
    "\n",
    "stat, p_value = stats.shapiro(promo3_data)\n",
    "print(f'p-value of Shapiro test for promo 3 is {p_value:.3f}')\n",
    "print()\n",
    "\n",
    "\n",
    "# Calculating of effect size\n",
    "temp_n = 20\n",
    "temp_std = df.groupby(['MarketSize', 'Promotion']).std()[['SalesInThousands']].query('MarketSize == \"Small\"').mean().values[0]\n",
    "uplift = 4\n",
    "# Cohen's d method\n",
    "effect_size = uplift / temp_std\n",
    "\n",
    "\n",
    "# Calculating of test power\n",
    "ttest_power = smp.TTestIndPower()\n",
    "power_single_test = ttest_power.solve_power(effect_size=effect_size, nobs1=temp_n, alpha=0.10, power=None, alternative='larger')\n",
    "power_multiple_test = ttest_power.solve_power(effect_size=effect_size, nobs1=temp_n, alpha=0.10 / 2, power=None, \n",
    "                                              alternative='larger')\n",
    "\n",
    "print(f'Power of single test is {power_single_test:.2f}')\n",
    "print(f'Power of multiple test is {power_multiple_test:.2f}')\n",
    "print()\n",
    "\n",
    "\n",
    "##################################################### implementation of ttest ##################################################\n",
    "\n",
    "#  comparison between promo 1 and promo 2\n",
    "t_stat, p_value = stats.ttest_ind(promo2_data, promo1_data, equal_var=False, alternative='less')\n",
    "print(f'T statistic of comparison between promo 1 and promo 2 is {t_stat:.3f}, also p-value is {p_value:.5f}')\n",
    "print()\n",
    "\n",
    "\n",
    "#  comparison between promo 3 and promo 2\n",
    "t_stat, p_value = stats.ttest_ind(promo2_data, promo3_data, equal_var=False, alternative='less')\n",
    "print(f'T statistic of comparison between promo 3 and promo 2 is {t_stat:.3f}, also p-value is {p_value:.5f}')\n",
    "print()\n",
    "\n",
    "\n",
    "#  comparison between promo 1 and promo 3\n",
    "t_stat, p_value = stats.ttest_ind(promo3_data, promo1_data, equal_var=False, alternative='less')\n",
    "print(f'T statistic of comparison between promo 1 and promo 3 is {t_stat:.3f}, also p-value is {p_value:.5f}')\n",
    "print()\n",
    "\n",
    "\n",
    "########################################## implementation of nonparametric test (mannwhitneyu)##################################\n",
    "\n",
    "#  comparison between promo 1 and promo 2\n",
    "u_stat, p_value = stats.mannwhitneyu(promo1_data, promo2_data, alternative='greater')\n",
    "print(f'U statistic of comparison between promo 1 and promo 2 is {u_stat:.3f}, also p-value is {p_value:.5f}')\n",
    "print()\n",
    "\n",
    "#  comparison between promo 3 and promo 2\n",
    "u_stat, p_value = stats.mannwhitneyu(promo3_data, promo2_data, alternative='greater')\n",
    "print(f'U statistic of comparison between promo 3 and promo 2 is {u_stat:.3f}, also p-value is {p_value:.5f}')\n",
    "print()\n",
    "\n",
    "#  comparison between promo 1 and promo 3\n",
    "u_stat, p_value = stats.mannwhitneyu(promo1_data, promo3_data, alternative='greater')\n",
    "print(f'U statistic of comparison between promo 1 and promo 3 is {u_stat:.3f}, also p-value is {p_value:.5f}')\n",
    "print()"
   ]
  },
  {
   "cell_type": "markdown",
   "metadata": {},
   "source": [
    "##### Results\n",
    "There are significant differences between mean of sales by promotions:\n",
    "promo 1 is statistically significant than promo 2, also promo 3 is is statistically significant than promo 2. These result have large values of t-statistic and p-value goes to zero. Comparison between promo 3 and promo 1 doesn't show a significant result (p-value greater than alpha).    \n",
    "Also, Mannwhitneyu test shows the same results as t-test."
   ]
  },
  {
   "cell_type": "code",
   "execution_count": null,
   "metadata": {},
   "outputs": [],
   "source": []
  }
 ],
 "metadata": {
  "kernelspec": {
   "display_name": "Python 3",
   "language": "python",
   "name": "python3"
  },
  "language_info": {
   "codemirror_mode": {
    "name": "ipython",
    "version": 3
   },
   "file_extension": ".py",
   "mimetype": "text/x-python",
   "name": "python",
   "nbconvert_exporter": "python",
   "pygments_lexer": "ipython3",
   "version": "3.7.4"
  }
 },
 "nbformat": 4,
 "nbformat_minor": 2
}
